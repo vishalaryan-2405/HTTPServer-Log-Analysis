{
 "cells": [
  {
   "cell_type": "code",
   "execution_count": 25,
   "id": "f27afb09-a2a3-4c0f-9fcb-3bca07ec2e99",
   "metadata": {},
   "outputs": [
    {
     "name": "stdout",
     "output_type": "stream",
     "text": [
      "File already exists locally.\n",
      "✅ Total lines loaded: 726739\n"
     ]
    }
   ],
   "source": [
    "import urllib.request\n",
    "import gzip\n",
    "import os\n",
    "ftp_url = \"ftp://ita.ee.lbl.gov/traces/calgary_access_log.gz\"\n",
    "local_file = \"calgary_access_log.gz\"\n",
    "if not os.path.exists(local_file):\n",
    "    print(\"Downloading the file...\")\n",
    "    urllib.request.urlretrieve(ftp_url, local_file)\n",
    "    print(\"Download complete!\")\n",
    "else:\n",
    "    print(\"File already exists locally.\")\n",
    "def load_logs(file_path):\n",
    "    with gzip.open(file_path, 'rt', errors='ignore') as f:\n",
    "        lines = f.readlines()\n",
    "    return lines\n",
    "raw_logs = load_logs(local_file)\n",
    "print(f\"✅ Total lines loaded: {len(raw_logs)}\")\n"
   ]
  },
  {
   "cell_type": "code",
   "execution_count": 26,
   "id": "c3d6d6f5-c53c-45f2-b709-4b4058ad0c1a",
   "metadata": {},
   "outputs": [
    {
     "name": "stderr",
     "output_type": "stream",
     "text": [
      "Parsing logs: 100%|█████████████████████████████████████████████████████████| 726739/726739 [00:40<00:00, 17729.43it/s]\n"
     ]
    }
   ],
   "source": [
    "import re\n",
    "from datetime import datetime\n",
    "\n",
    "# Regex pattern to match Apache log format\n",
    "log_pattern = re.compile(\n",
    "    r'(\\S+) (\\S+) (\\S+) \\[(.*?)\\] \"(.*?)\" (\\d{3}) (\\S+)'\n",
    ")\n",
    "\n",
    "# Store parsed logs\n",
    "parsed_logs = []\n",
    "\n",
    "for line in tqdm(raw_logs, desc=\"Parsing logs\"):\n",
    "    match = log_pattern.match(line)\n",
    "    if match:\n",
    "        host, rfc931, authuser, timestamp, request, status, byte_size = match.groups()\n",
    "\n",
    "        # Parse datetime\n",
    "        try:\n",
    "            dt = datetime.strptime(timestamp, '%d/%b/%Y:%H:%M:%S %z')\n",
    "        except ValueError:\n",
    "            continue  # skip malformed dates\n",
    "\n",
    "        # Parse request into method, filename, and protocol\n",
    "        request_parts = request.split()\n",
    "        if len(request_parts) == 3:\n",
    "            method, filename, protocol = request_parts\n",
    "        else:\n",
    "            filename = None  # malformed request\n",
    "            method = protocol = None\n",
    "\n",
    "        # Parse byte size\n",
    "        byte_size = int(byte_size) if byte_size != '-' else 0\n",
    "\n",
    "        # Append cleaned data\n",
    "        parsed_logs.append({\n",
    "            'host': host,\n",
    "            'datetime': dt,\n",
    "            'method': method,\n",
    "            'filename': filename,\n",
    "            'protocol': protocol,\n",
    "            'status': int(status),\n",
    "            'bytes': byte_size\n",
    "        })\n"
   ]
  },
  {
   "cell_type": "code",
   "execution_count": 7,
   "id": "fb5cea98-7553-4c89-b2a7-b4e639d7db75",
   "metadata": {},
   "outputs": [
    {
     "name": "stdout",
     "output_type": "stream",
     "text": [
      "✅ DataFrame created. Shape: (724910, 7)\n"
     ]
    },
    {
     "data": {
      "text/html": [
       "<div>\n",
       "<style scoped>\n",
       "    .dataframe tbody tr th:only-of-type {\n",
       "        vertical-align: middle;\n",
       "    }\n",
       "\n",
       "    .dataframe tbody tr th {\n",
       "        vertical-align: top;\n",
       "    }\n",
       "\n",
       "    .dataframe thead th {\n",
       "        text-align: right;\n",
       "    }\n",
       "</style>\n",
       "<table border=\"1\" class=\"dataframe\">\n",
       "  <thead>\n",
       "    <tr style=\"text-align: right;\">\n",
       "      <th></th>\n",
       "      <th>host</th>\n",
       "      <th>datetime</th>\n",
       "      <th>method</th>\n",
       "      <th>filename</th>\n",
       "      <th>protocol</th>\n",
       "      <th>status</th>\n",
       "      <th>bytes</th>\n",
       "    </tr>\n",
       "  </thead>\n",
       "  <tbody>\n",
       "    <tr>\n",
       "      <th>0</th>\n",
       "      <td>local</td>\n",
       "      <td>1994-10-24 13:41:41-06:00</td>\n",
       "      <td>GET</td>\n",
       "      <td>index.html</td>\n",
       "      <td>HTTP/1.0</td>\n",
       "      <td>200</td>\n",
       "      <td>150</td>\n",
       "    </tr>\n",
       "    <tr>\n",
       "      <th>1</th>\n",
       "      <td>local</td>\n",
       "      <td>1994-10-24 13:41:41-06:00</td>\n",
       "      <td>GET</td>\n",
       "      <td>1.gif</td>\n",
       "      <td>HTTP/1.0</td>\n",
       "      <td>200</td>\n",
       "      <td>1210</td>\n",
       "    </tr>\n",
       "    <tr>\n",
       "      <th>2</th>\n",
       "      <td>local</td>\n",
       "      <td>1994-10-24 13:43:13-06:00</td>\n",
       "      <td>GET</td>\n",
       "      <td>index.html</td>\n",
       "      <td>HTTP/1.0</td>\n",
       "      <td>200</td>\n",
       "      <td>3185</td>\n",
       "    </tr>\n",
       "    <tr>\n",
       "      <th>3</th>\n",
       "      <td>local</td>\n",
       "      <td>1994-10-24 13:43:14-06:00</td>\n",
       "      <td>GET</td>\n",
       "      <td>2.gif</td>\n",
       "      <td>HTTP/1.0</td>\n",
       "      <td>200</td>\n",
       "      <td>2555</td>\n",
       "    </tr>\n",
       "    <tr>\n",
       "      <th>4</th>\n",
       "      <td>local</td>\n",
       "      <td>1994-10-24 13:43:15-06:00</td>\n",
       "      <td>GET</td>\n",
       "      <td>3.gif</td>\n",
       "      <td>HTTP/1.0</td>\n",
       "      <td>200</td>\n",
       "      <td>36403</td>\n",
       "    </tr>\n",
       "  </tbody>\n",
       "</table>\n",
       "</div>"
      ],
      "text/plain": [
       "    host                   datetime method    filename  protocol  status  \\\n",
       "0  local  1994-10-24 13:41:41-06:00    GET  index.html  HTTP/1.0     200   \n",
       "1  local  1994-10-24 13:41:41-06:00    GET       1.gif  HTTP/1.0     200   \n",
       "2  local  1994-10-24 13:43:13-06:00    GET  index.html  HTTP/1.0     200   \n",
       "3  local  1994-10-24 13:43:14-06:00    GET       2.gif  HTTP/1.0     200   \n",
       "4  local  1994-10-24 13:43:15-06:00    GET       3.gif  HTTP/1.0     200   \n",
       "\n",
       "   bytes  \n",
       "0    150  \n",
       "1   1210  \n",
       "2   3185  \n",
       "3   2555  \n",
       "4  36403  "
      ]
     },
     "execution_count": 7,
     "metadata": {},
     "output_type": "execute_result"
    }
   ],
   "source": [
    "import pandas as pd\n",
    "\n",
    "df = pd.DataFrame(parsed_logs)\n",
    "print(\"✅ DataFrame created. Shape:\", df.shape)\n",
    "df.head()\n"
   ]
  },
  {
   "cell_type": "code",
   "execution_count": 9,
   "id": "d979c8c0-c650-4313-bbc5-ed9e15ba4b6a",
   "metadata": {},
   "outputs": [
    {
     "name": "stdout",
     "output_type": "stream",
     "text": [
      "object\n"
     ]
    }
   ],
   "source": [
    "print(df['datetime'].dtype)\n"
   ]
  },
  {
   "cell_type": "code",
   "execution_count": 27,
   "id": "2d687d75-6ece-4849-acdd-88b8c265d2ae",
   "metadata": {},
   "outputs": [],
   "source": [
    "df['datetime'] = pd.to_datetime(df['datetime'], errors='coerce')\n"
   ]
  },
  {
   "cell_type": "code",
   "execution_count": 28,
   "id": "81727165-076f-4394-83e5-446c13cba445",
   "metadata": {},
   "outputs": [],
   "source": [
    "df['date_str'] = df['datetime'].dt.strftime('%d-%b-%Y')\n",
    "df['hour'] = df['datetime'].dt.hour\n",
    "df['ext'] = df['filename'].str.extract(r'\\.([a-zA-Z0-9]+)$', expand=False).fillna('none')\n"
   ]
  },
  {
   "cell_type": "raw",
   "id": "605072fb-36ce-48f2-b071-3f227c8ee1e2",
   "metadata": {},
   "source": [
    "Count of total log records"
   ]
  },
  {
   "cell_type": "code",
   "execution_count": 29,
   "id": "afe86c51-c71a-4aa7-ad6a-02728da91168",
   "metadata": {},
   "outputs": [
    {
     "name": "stdout",
     "output_type": "stream",
     "text": [
      "Q1: 724910\n"
     ]
    }
   ],
   "source": [
    "total_logs = len(df)\n",
    "print(\"Q1:\", total_logs)\n"
   ]
  },
  {
   "cell_type": "raw",
   "id": "741bf4c6-c498-445e-9795-7bdbd8f0af90",
   "metadata": {},
   "source": [
    "Count of unique hosts"
   ]
  },
  {
   "cell_type": "code",
   "execution_count": 30,
   "id": "2043c783-7788-4121-ad81-cf2f79bbd5f1",
   "metadata": {},
   "outputs": [
    {
     "name": "stdout",
     "output_type": "stream",
     "text": [
      "Q2: 2\n"
     ]
    }
   ],
   "source": [
    "unique_hosts = df['host'].nunique()\n",
    "print(\"Q2:\", unique_hosts)\n"
   ]
  },
  {
   "cell_type": "raw",
   "id": "99b5267b-3304-4847-acbd-ccb5f8d23c4e",
   "metadata": {},
   "source": [
    "Date-wise unique filename counts"
   ]
  },
  {
   "cell_type": "code",
   "execution_count": 31,
   "id": "6a8cdcbb-b735-4cfb-aaa7-9684c118f517",
   "metadata": {},
   "outputs": [
    {
     "name": "stdout",
     "output_type": "stream",
     "text": [
      "Q3: {'01-Aug-1995': 669, '01-Jul-1995': 387, '01-Jun-1995': 590, '01-May-1995': 467, '01-Oct-1995': 552, '01-Sep-1995': 328, '02-Apr-1995': 438, '02-Aug-1995': 855, '02-Jul-1995': 397, '02-Jun-1995': 513, '02-May-1995': 701, '02-Oct-1995': 871, '02-Sep-1995': 349, '03-Apr-1995': 795, '03-Aug-1995': 582, '03-Jul-1995': 433, '03-Jun-1995': 398, '03-May-1995': 589, '03-Oct-1995': 846, '03-Sep-1995': 212, '04-Apr-1995': 821, '04-Aug-1995': 715, '04-Jul-1995': 610, '04-Jun-1995': 353, '04-May-1995': 684, '04-Oct-1995': 889, '04-Sep-1995': 340, '05-Apr-1995': 891, '05-Aug-1995': 507, '05-Jul-1995': 607, '05-Jun-1995': 494, '05-May-1995': 609, '05-Oct-1995': 846, '05-Sep-1995': 411, '06-Apr-1995': 678, '06-Aug-1995': 448, '06-Jul-1995': 522, '06-Jun-1995': 662, '06-May-1995': 517, '06-Oct-1995': 868, '06-Sep-1995': 549, '07-Apr-1995': 776, '07-Aug-1995': 608, '07-Jul-1995': 428, '07-Jun-1995': 486, '07-May-1995': 725, '07-Oct-1995': 468, '07-Sep-1995': 590, '08-Apr-1995': 542, '08-Aug-1995': 654, '08-Jul-1995': 277, '08-Jun-1995': 642, '08-May-1995': 656, '08-Oct-1995': 514, '08-Sep-1995': 754, '09-Apr-1995': 626, '09-Aug-1995': 698, '09-Jul-1995': 233, '09-Jun-1995': 468, '09-May-1995': 775, '09-Oct-1995': 742, '09-Sep-1995': 408, '10-Apr-1995': 751, '10-Aug-1995': 635, '10-Jul-1995': 502, '10-Jun-1995': 328, '10-May-1995': 794, '10-Oct-1995': 841, '10-Sep-1995': 455, '11-Apr-1995': 816, '11-Aug-1995': 451, '11-Jul-1995': 571, '11-Jun-1995': 297, '11-May-1995': 599, '11-Oct-1995': 717, '11-Sep-1995': 717, '12-Apr-1995': 887, '12-Aug-1995': 340, '12-Jul-1995': 467, '12-Jun-1995': 519, '12-May-1995': 469, '12-Sep-1995': 718, '13-Apr-1995': 613, '13-Aug-1995': 463, '13-Jul-1995': 499, '13-Jun-1995': 465, '13-May-1995': 289, '13-Sep-1995': 773, '14-Apr-1995': 353, '14-Aug-1995': 589, '14-Jul-1995': 551, '14-Jun-1995': 589, '14-May-1995': 326, '14-Sep-1995': 720, '15-Apr-1995': 418, '15-Aug-1995': 481, '15-Jul-1995': 384, '15-Jun-1995': 479, '15-May-1995': 584, '15-Sep-1995': 709, '16-Apr-1995': 434, '16-Aug-1995': 601, '16-Jul-1995': 299, '16-Jun-1995': 529, '16-May-1995': 432, '16-Sep-1995': 564, '17-Apr-1995': 446, '17-Aug-1995': 537, '17-Jul-1995': 568, '17-Jun-1995': 383, '17-May-1995': 508, '17-Sep-1995': 466, '18-Apr-1995': 452, '18-Aug-1995': 492, '18-Jul-1995': 557, '18-Jun-1995': 358, '18-May-1995': 528, '18-Sep-1995': 657, '19-Apr-1995': 704, '19-Aug-1995': 377, '19-Jul-1995': 471, '19-Jun-1995': 612, '19-May-1995': 499, '19-Sep-1995': 735, '20-Apr-1995': 587, '20-Aug-1995': 395, '20-Jul-1995': 569, '20-Jun-1995': 531, '20-May-1995': 254, '20-Sep-1995': 832, '21-Apr-1995': 713, '21-Aug-1995': 631, '21-Jul-1995': 649, '21-Jun-1995': 625, '21-May-1995': 288, '21-Sep-1995': 800, '22-Apr-1995': 435, '22-Aug-1995': 538, '22-Jul-1995': 444, '22-Jun-1995': 630, '22-May-1995': 477, '22-Sep-1995': 615, '23-Apr-1995': 332, '23-Aug-1995': 660, '23-Jul-1995': 498, '23-Jun-1995': 561, '23-May-1995': 565, '23-Sep-1995': 502, '24-Apr-1995': 529, '24-Aug-1995': 578, '24-Jul-1995': 565, '24-Jun-1995': 396, '24-May-1995': 490, '24-Oct-1994': 228, '24-Sep-1995': 593, '25-Apr-1995': 557, '25-Aug-1995': 595, '25-Jul-1995': 588, '25-Jun-1995': 569, '25-May-1995': 487, '25-Oct-1994': 319, '25-Sep-1995': 723, '26-Apr-1995': 647, '26-Aug-1995': 394, '26-Jul-1995': 598, '26-Jun-1995': 638, '26-May-1995': 424, '26-Oct-1994': 377, '26-Sep-1995': 871, '27-Apr-1995': 616, '27-Aug-1995': 436, '27-Jul-1995': 614, '27-Jun-1995': 518, '27-May-1995': 244, '27-Oct-1994': 384, '27-Sep-1995': 826, '28-Apr-1995': 637, '28-Aug-1995': 548, '28-Jul-1995': 564, '28-Jun-1995': 583, '28-May-1995': 205, '28-Oct-1994': 399, '28-Sep-1995': 867, '29-Apr-1995': 449, '29-Aug-1995': 511, '29-Jul-1995': 320, '29-Jun-1995': 469, '29-May-1995': 464, '29-Oct-1994': 254, '29-Sep-1995': 838, '30-Apr-1995': 277, '30-Aug-1995': 593, '30-Jul-1995': 481, '30-Jun-1995': 461, '30-May-1995': 553, '30-Oct-1994': 20, '30-Sep-1995': 650, '31-Aug-1995': 509, '31-Jul-1995': 622, '31-May-1995': 571}\n"
     ]
    }
   ],
   "source": [
    "datewise_unique_filenames = df.groupby('date_str')['filename'].nunique().to_dict()\n",
    "print(\"Q3:\", datewise_unique_filenames)\n"
   ]
  },
  {
   "cell_type": "raw",
   "id": "0a62212f-fb14-4d36-aa0d-00aa169e9df4",
   "metadata": {},
   "source": [
    "Number of 404 response codes"
   ]
  },
  {
   "cell_type": "code",
   "execution_count": 32,
   "id": "cf2cbf7b-4370-42e2-bbc9-400dae5ed784",
   "metadata": {},
   "outputs": [
    {
     "name": "stdout",
     "output_type": "stream",
     "text": [
      "Q4: 23586\n"
     ]
    }
   ],
   "source": [
    "q4_404_count = df[df['status'] == 404].shape[0]\n",
    "print(\"Q4:\", q4_404_count)\n",
    "\n"
   ]
  },
  {
   "cell_type": "code",
   "execution_count": null,
   "id": "76184535-5d67-4358-8613-38918badc236",
   "metadata": {},
   "outputs": [],
   "source": [
    "Top 15 filenames with 404 responses"
   ]
  },
  {
   "cell_type": "code",
   "execution_count": 33,
   "id": "cff5e3fa-a7ed-4d63-8f7a-b0d8e17b8d92",
   "metadata": {},
   "outputs": [
    {
     "name": "stdout",
     "output_type": "stream",
     "text": [
      "Q5: [('index.html', 4694), ('4115.html', 902), ('1611.html', 649), ('5698.xbm', 585), ('710.txt', 408), ('2002.html', 258), ('2177.gif', 193), ('10695.ps', 161), ('6555.html', 153), ('487.gif', 152), ('151.html', 149), ('3414.gif', 148), ('488.gif', 148), ('40.html', 148), ('9678.gif', 142)]\n"
     ]
    }
   ],
   "source": [
    "q5_top_404_files = df[df['status'] == 404]['filename'].value_counts().head(15).items()\n",
    "print(\"Q5:\", list(q5_top_404_files))\n"
   ]
  },
  {
   "cell_type": "code",
   "execution_count": null,
   "id": "96693d15-a3e2-4f5c-8fb0-0516272150fc",
   "metadata": {},
   "outputs": [],
   "source": [
    "Top 15 file extensions with 404 responses"
   ]
  },
  {
   "cell_type": "code",
   "execution_count": 34,
   "id": "67d6bf38-eac3-4be0-ab5d-33bf37f74582",
   "metadata": {},
   "outputs": [
    {
     "name": "stdout",
     "output_type": "stream",
     "text": [
      "Q6: [('html', 12142), ('gif', 7202), ('xbm', 824), ('ps', 754), ('none', 673), ('jpg', 520), ('txt', 496), ('GIF', 135), ('htm', 107), ('cgi', 77), ('com', 45), ('Z', 41), ('dvi', 40), ('ca', 36), ('hmtl', 30)]\n"
     ]
    }
   ],
   "source": [
    "df['ext'] = df['filename'].str.extract(r'\\.([a-zA-Z0-9]+)$', expand=False).fillna('none')\n",
    "\n",
    "q6_top_404_exts = df[df['status'] == 404]['ext'].value_counts().head(15).items()\n",
    "print(\"Q6:\", list(q6_top_404_exts))\n"
   ]
  },
  {
   "cell_type": "raw",
   "id": "57dbfb15-9d7a-42f6-ab51-081a455837b1",
   "metadata": {},
   "source": [
    "Total bandwidth transferred per day for July 1995"
   ]
  },
  {
   "cell_type": "code",
   "execution_count": 35,
   "id": "768ff6b5-fdb2-4c45-a0ba-9148957d9f66",
   "metadata": {},
   "outputs": [
    {
     "name": "stdout",
     "output_type": "stream",
     "text": [
      "Q7: {'01-Jul-1995': 11349799, '02-Jul-1995': 8656918, '03-Jul-1995': 13596612, '04-Jul-1995': 26573988, '05-Jul-1995': 19541225, '06-Jul-1995': 19755015, '07-Jul-1995': 9427822, '08-Jul-1995': 5403491, '09-Jul-1995': 4660556, '10-Jul-1995': 14917754, '11-Jul-1995': 22507207, '12-Jul-1995': 17367065, '13-Jul-1995': 15989234, '14-Jul-1995': 19186430, '15-Jul-1995': 15773233, '16-Jul-1995': 9016378, '17-Jul-1995': 19601338, '18-Jul-1995': 17099761, '19-Jul-1995': 17851725, '20-Jul-1995': 20752623, '21-Jul-1995': 25491617, '22-Jul-1995': 8136259, '23-Jul-1995': 9593870, '24-Jul-1995': 22308265, '25-Jul-1995': 24561635, '26-Jul-1995': 24995540, '27-Jul-1995': 25969995, '28-Jul-1995': 36460693, '29-Jul-1995': 11700624, '30-Jul-1995': 23189598, '31-Jul-1995': 30730715}\n"
     ]
    }
   ],
   "source": [
    "df_july = df[(df['datetime'].dt.month == 7) & (df['datetime'].dt.year == 1995)]\n",
    "\n",
    "# Filter out non-numeric bytes (i.e., '-')\n",
    "df_july = df_july[df_july['bytes'].astype(str) != '-']\n",
    "df_july['bytes'] = df_july['bytes'].astype(int)\n",
    "\n",
    "q7_bandwidth_july = df_july.groupby('date_str')['bytes'].sum().to_dict()\n",
    "print(\"Q7:\", q7_bandwidth_july)\n"
   ]
  },
  {
   "cell_type": "raw",
   "id": "7529a4d7-b79f-4d2f-8c7c-e67d91da0579",
   "metadata": {},
   "source": [
    "Hourly request distribution"
   ]
  },
  {
   "cell_type": "code",
   "execution_count": 36,
   "id": "d7eef582-040b-4d0a-9172-2a0e3bd8d5ab",
   "metadata": {},
   "outputs": [
    {
     "name": "stdout",
     "output_type": "stream",
     "text": [
      "Q8: {0.0: 11598, 1.0: 9913, 2.0: 9403, 3.0: 8147, 4.0: 7832, 5.0: 8283, 6.0: 9798, 7.0: 11930, 8.0: 17351, 9.0: 21683, 10.0: 25717, 11.0: 28665, 12.0: 26845, 13.0: 30089, 14.0: 29792, 15.0: 28149, 16.0: 28287, 17.0: 23332, 18.0: 17862, 19.0: 17325, 20.0: 17492, 21.0: 15969, 22.0: 14588, 23.0: 13613}\n"
     ]
    }
   ],
   "source": [
    "df['hour'] = df['datetime'].dt.hour\n",
    "q8_hourly_dist = df['hour'].value_counts().sort_index().to_dict()\n",
    "print(\"Q8:\", q8_hourly_dist)\n"
   ]
  },
  {
   "cell_type": "code",
   "execution_count": null,
   "id": "d7b1f941-af3f-4c2e-8afc-bb027708a7b2",
   "metadata": {},
   "outputs": [],
   "source": [
    "Top 10 most requested filenames"
   ]
  },
  {
   "cell_type": "code",
   "execution_count": 37,
   "id": "23fb95da-4eef-4822-9566-0144488befeb",
   "metadata": {},
   "outputs": [
    {
     "name": "stdout",
     "output_type": "stream",
     "text": [
      "Q9: [('index.html', 139528), ('3.gif', 24006), ('2.gif', 23595), ('4.gif', 8018), ('244.gif', 5148), ('5.html', 5010), ('4097.gif', 4874), ('8870.jpg', 4492), ('6733.gif', 4278), ('8472.gif', 3843)]\n"
     ]
    }
   ],
   "source": [
    "q9_top_filenames = df['filename'].value_counts().head(10).items()\n",
    "print(\"Q9:\", list(q9_top_filenames))\n"
   ]
  },
  {
   "cell_type": "raw",
   "id": "9e23b599-5000-42ea-8675-612d95addf8b",
   "metadata": {},
   "source": [
    "HTTP response code distribution"
   ]
  },
  {
   "cell_type": "code",
   "execution_count": 38,
   "id": "064e5bd0-de9b-4f72-92e1-d2cf84e8f82d",
   "metadata": {},
   "outputs": [
    {
     "name": "stdout",
     "output_type": "stream",
     "text": [
      "Q10: {200: 568348, 302: 30295, 304: 97792, 400: 15, 401: 46, 403: 4743, 404: 23586, 500: 42, 501: 43}\n"
     ]
    }
   ],
   "source": [
    "q10_status_dist = df['status'].value_counts().sort_index().to_dict()\n",
    "print(\"Q10:\", q10_status_dist)\n"
   ]
  },
  {
   "cell_type": "code",
   "execution_count": null,
   "id": "a6a790a8-d0d2-4b77-b473-8d2cd97a55dd",
   "metadata": {},
   "outputs": [],
   "source": []
  }
 ],
 "metadata": {
  "kernelspec": {
   "display_name": "Python 3 (ipykernel)",
   "language": "python",
   "name": "python3"
  },
  "language_info": {
   "codemirror_mode": {
    "name": "ipython",
    "version": 3
   },
   "file_extension": ".py",
   "mimetype": "text/x-python",
   "name": "python",
   "nbconvert_exporter": "python",
   "pygments_lexer": "ipython3",
   "version": "3.12.7"
  }
 },
 "nbformat": 4,
 "nbformat_minor": 5
}
